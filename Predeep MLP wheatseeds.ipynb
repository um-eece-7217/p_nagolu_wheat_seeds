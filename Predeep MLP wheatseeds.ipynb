{
 "cells": [
  {
   "cell_type": "code",
   "execution_count": 1,
   "id": "81c172ac",
   "metadata": {},
   "outputs": [],
   "source": [
    "# import required libraries\n",
    "import warnings\n",
    "warnings.filterwarnings(\"ignore\")\n",
    "import pandas as pd\n",
    "import numpy as np\n",
    "# import required libraries \n",
    "from sklearn.svm import LinearSVC\n",
    "from sklearn.metrics import confusion_matrix\n",
    "import seaborn as sns\n",
    "import matplotlib.pyplot as  plt\n",
    "from sklearn.model_selection import train_test_split, cross_val_score\n",
    "from sklearn.decomposition import PCA\n",
    "from mlxtend.plotting import plot_decision_regions\n",
    "from sklearn.pipeline import make_pipeline\n",
    "from sklearn.preprocessing import StandardScaler\n",
    "from sklearn.datasets import make_classification\n",
    "import matplotlib.pyplot as plt\n",
    "from sklearn.preprocessing import StandardScaler\n",
    "from sklearn.decomposition import PCA\n",
    "from sklearn.discriminant_analysis import LinearDiscriminantAnalysis"
   ]
  },
  {
   "cell_type": "code",
   "execution_count": 2,
   "id": "25fe2968",
   "metadata": {},
   "outputs": [],
   "source": [
    "# Import seeds dataset\n",
    "df_seed = pd.read_table('./seeds_dataset.txt', sep=\"\\t\",on_bad_lines='skip')\n",
    "# set the column names\n",
    "df_seed.columns = [\"area\", \"parimeter\", \"compactness\", \"length_of_kernal\", \"width_of_kernal\", \"asymmetry\", \n",
    "                \"length_of_kernel_groove\", \"type\"]"
   ]
  },
  {
   "cell_type": "code",
   "execution_count": null,
   "id": "fee1d57b",
   "metadata": {},
   "outputs": [],
   "source": []
  },
  {
   "cell_type": "code",
   "execution_count": 3,
   "id": "3cb553c9",
   "metadata": {},
   "outputs": [
    {
     "data": {
      "text/plain": [
       "'1.3.5'"
      ]
     },
     "execution_count": 3,
     "metadata": {},
     "output_type": "execute_result"
    }
   ],
   "source": [
    "pd.__version__"
   ]
  },
  {
   "cell_type": "code",
   "execution_count": 4,
   "id": "8737ce8b",
   "metadata": {},
   "outputs": [
    {
     "data": {
      "text/plain": [
       "area                       0\n",
       "parimeter                  0\n",
       "compactness                0\n",
       "length_of_kernal           0\n",
       "width_of_kernal            0\n",
       "asymmetry                  0\n",
       "length_of_kernel_groove    0\n",
       "type                       0\n",
       "dtype: int64"
      ]
     },
     "execution_count": 4,
     "metadata": {},
     "output_type": "execute_result"
    }
   ],
   "source": [
    "df_seed.isnull().sum()"
   ]
  },
  {
   "cell_type": "code",
   "execution_count": 5,
   "id": "60a2de0d",
   "metadata": {},
   "outputs": [
    {
     "data": {
      "text/html": [
       "<div>\n",
       "<style scoped>\n",
       "    .dataframe tbody tr th:only-of-type {\n",
       "        vertical-align: middle;\n",
       "    }\n",
       "\n",
       "    .dataframe tbody tr th {\n",
       "        vertical-align: top;\n",
       "    }\n",
       "\n",
       "    .dataframe thead th {\n",
       "        text-align: right;\n",
       "    }\n",
       "</style>\n",
       "<table border=\"1\" class=\"dataframe\">\n",
       "  <thead>\n",
       "    <tr style=\"text-align: right;\">\n",
       "      <th></th>\n",
       "      <th>area</th>\n",
       "      <th>parimeter</th>\n",
       "      <th>compactness</th>\n",
       "      <th>length_of_kernal</th>\n",
       "      <th>width_of_kernal</th>\n",
       "      <th>asymmetry</th>\n",
       "      <th>length_of_kernel_groove</th>\n",
       "      <th>type</th>\n",
       "    </tr>\n",
       "  </thead>\n",
       "  <tbody>\n",
       "    <tr>\n",
       "      <th>area</th>\n",
       "      <td>1.000000</td>\n",
       "      <td>0.994449</td>\n",
       "      <td>0.609904</td>\n",
       "      <td>0.951175</td>\n",
       "      <td>0.970978</td>\n",
       "      <td>-0.222804</td>\n",
       "      <td>0.863362</td>\n",
       "      <td>-0.341249</td>\n",
       "    </tr>\n",
       "    <tr>\n",
       "      <th>parimeter</th>\n",
       "      <td>0.994449</td>\n",
       "      <td>1.000000</td>\n",
       "      <td>0.531880</td>\n",
       "      <td>0.972955</td>\n",
       "      <td>0.945499</td>\n",
       "      <td>-0.210643</td>\n",
       "      <td>0.890382</td>\n",
       "      <td>-0.322321</td>\n",
       "    </tr>\n",
       "    <tr>\n",
       "      <th>compactness</th>\n",
       "      <td>0.609904</td>\n",
       "      <td>0.531880</td>\n",
       "      <td>1.000000</td>\n",
       "      <td>0.374069</td>\n",
       "      <td>0.762191</td>\n",
       "      <td>-0.330206</td>\n",
       "      <td>0.227129</td>\n",
       "      <td>-0.541270</td>\n",
       "    </tr>\n",
       "    <tr>\n",
       "      <th>length_of_kernal</th>\n",
       "      <td>0.951175</td>\n",
       "      <td>0.972955</td>\n",
       "      <td>0.374069</td>\n",
       "      <td>1.000000</td>\n",
       "      <td>0.862704</td>\n",
       "      <td>-0.168791</td>\n",
       "      <td>0.933248</td>\n",
       "      <td>-0.248737</td>\n",
       "    </tr>\n",
       "    <tr>\n",
       "      <th>width_of_kernal</th>\n",
       "      <td>0.970978</td>\n",
       "      <td>0.945499</td>\n",
       "      <td>0.762191</td>\n",
       "      <td>0.862704</td>\n",
       "      <td>1.000000</td>\n",
       "      <td>-0.253155</td>\n",
       "      <td>0.748826</td>\n",
       "      <td>-0.422823</td>\n",
       "    </tr>\n",
       "    <tr>\n",
       "      <th>asymmetry</th>\n",
       "      <td>-0.222804</td>\n",
       "      <td>-0.210643</td>\n",
       "      <td>-0.330206</td>\n",
       "      <td>-0.168791</td>\n",
       "      <td>-0.253155</td>\n",
       "      <td>1.000000</td>\n",
       "      <td>-0.005443</td>\n",
       "      <td>0.571351</td>\n",
       "    </tr>\n",
       "    <tr>\n",
       "      <th>length_of_kernel_groove</th>\n",
       "      <td>0.863362</td>\n",
       "      <td>0.890382</td>\n",
       "      <td>0.227129</td>\n",
       "      <td>0.933248</td>\n",
       "      <td>0.748826</td>\n",
       "      <td>-0.005443</td>\n",
       "      <td>1.000000</td>\n",
       "      <td>0.033120</td>\n",
       "    </tr>\n",
       "    <tr>\n",
       "      <th>type</th>\n",
       "      <td>-0.341249</td>\n",
       "      <td>-0.322321</td>\n",
       "      <td>-0.541270</td>\n",
       "      <td>-0.248737</td>\n",
       "      <td>-0.422823</td>\n",
       "      <td>0.571351</td>\n",
       "      <td>0.033120</td>\n",
       "      <td>1.000000</td>\n",
       "    </tr>\n",
       "  </tbody>\n",
       "</table>\n",
       "</div>"
      ],
      "text/plain": [
       "                             area  parimeter  compactness  length_of_kernal  \\\n",
       "area                     1.000000   0.994449     0.609904          0.951175   \n",
       "parimeter                0.994449   1.000000     0.531880          0.972955   \n",
       "compactness              0.609904   0.531880     1.000000          0.374069   \n",
       "length_of_kernal         0.951175   0.972955     0.374069          1.000000   \n",
       "width_of_kernal          0.970978   0.945499     0.762191          0.862704   \n",
       "asymmetry               -0.222804  -0.210643    -0.330206         -0.168791   \n",
       "length_of_kernel_groove  0.863362   0.890382     0.227129          0.933248   \n",
       "type                    -0.341249  -0.322321    -0.541270         -0.248737   \n",
       "\n",
       "                         width_of_kernal  asymmetry  length_of_kernel_groove  \\\n",
       "area                            0.970978  -0.222804                 0.863362   \n",
       "parimeter                       0.945499  -0.210643                 0.890382   \n",
       "compactness                     0.762191  -0.330206                 0.227129   \n",
       "length_of_kernal                0.862704  -0.168791                 0.933248   \n",
       "width_of_kernal                 1.000000  -0.253155                 0.748826   \n",
       "asymmetry                      -0.253155   1.000000                -0.005443   \n",
       "length_of_kernel_groove         0.748826  -0.005443                 1.000000   \n",
       "type                           -0.422823   0.571351                 0.033120   \n",
       "\n",
       "                             type  \n",
       "area                    -0.341249  \n",
       "parimeter               -0.322321  \n",
       "compactness             -0.541270  \n",
       "length_of_kernal        -0.248737  \n",
       "width_of_kernal         -0.422823  \n",
       "asymmetry                0.571351  \n",
       "length_of_kernel_groove  0.033120  \n",
       "type                     1.000000  "
      ]
     },
     "execution_count": 5,
     "metadata": {},
     "output_type": "execute_result"
    }
   ],
   "source": [
    "df_seed.corr().T"
   ]
  },
  {
   "cell_type": "code",
   "execution_count": 6,
   "id": "e631732f",
   "metadata": {},
   "outputs": [
    {
     "data": {
      "text/html": [
       "<div>\n",
       "<style scoped>\n",
       "    .dataframe tbody tr th:only-of-type {\n",
       "        vertical-align: middle;\n",
       "    }\n",
       "\n",
       "    .dataframe tbody tr th {\n",
       "        vertical-align: top;\n",
       "    }\n",
       "\n",
       "    .dataframe thead th {\n",
       "        text-align: right;\n",
       "    }\n",
       "</style>\n",
       "<table border=\"1\" class=\"dataframe\">\n",
       "  <thead>\n",
       "    <tr style=\"text-align: right;\">\n",
       "      <th></th>\n",
       "      <th>area</th>\n",
       "      <th>parimeter</th>\n",
       "      <th>compactness</th>\n",
       "      <th>length_of_kernal</th>\n",
       "      <th>width_of_kernal</th>\n",
       "      <th>asymmetry</th>\n",
       "      <th>length_of_kernel_groove</th>\n",
       "      <th>type</th>\n",
       "    </tr>\n",
       "  </thead>\n",
       "  <tbody>\n",
       "    <tr>\n",
       "      <th>count</th>\n",
       "      <td>198.000000</td>\n",
       "      <td>198.000000</td>\n",
       "      <td>198.000000</td>\n",
       "      <td>198.000000</td>\n",
       "      <td>198.000000</td>\n",
       "      <td>198.000000</td>\n",
       "      <td>198.000000</td>\n",
       "      <td>198.000000</td>\n",
       "    </tr>\n",
       "    <tr>\n",
       "      <th>mean</th>\n",
       "      <td>14.917020</td>\n",
       "      <td>14.594596</td>\n",
       "      <td>0.870810</td>\n",
       "      <td>5.642545</td>\n",
       "      <td>3.265298</td>\n",
       "      <td>3.706683</td>\n",
       "      <td>5.421667</td>\n",
       "      <td>2.000000</td>\n",
       "    </tr>\n",
       "    <tr>\n",
       "      <th>std</th>\n",
       "      <td>2.927276</td>\n",
       "      <td>1.313651</td>\n",
       "      <td>0.023379</td>\n",
       "      <td>0.444635</td>\n",
       "      <td>0.379266</td>\n",
       "      <td>1.471047</td>\n",
       "      <td>0.493759</td>\n",
       "      <td>0.812341</td>\n",
       "    </tr>\n",
       "    <tr>\n",
       "      <th>min</th>\n",
       "      <td>10.590000</td>\n",
       "      <td>12.410000</td>\n",
       "      <td>0.808100</td>\n",
       "      <td>4.899000</td>\n",
       "      <td>2.630000</td>\n",
       "      <td>0.765100</td>\n",
       "      <td>4.519000</td>\n",
       "      <td>1.000000</td>\n",
       "    </tr>\n",
       "    <tr>\n",
       "      <th>25%</th>\n",
       "      <td>12.315000</td>\n",
       "      <td>13.470000</td>\n",
       "      <td>0.856900</td>\n",
       "      <td>5.267000</td>\n",
       "      <td>2.953750</td>\n",
       "      <td>2.600250</td>\n",
       "      <td>5.046000</td>\n",
       "      <td>1.000000</td>\n",
       "    </tr>\n",
       "    <tr>\n",
       "      <th>50%</th>\n",
       "      <td>14.405000</td>\n",
       "      <td>14.360000</td>\n",
       "      <td>0.873450</td>\n",
       "      <td>5.541000</td>\n",
       "      <td>3.243500</td>\n",
       "      <td>3.634500</td>\n",
       "      <td>5.229500</td>\n",
       "      <td>2.000000</td>\n",
       "    </tr>\n",
       "    <tr>\n",
       "      <th>75%</th>\n",
       "      <td>17.502500</td>\n",
       "      <td>15.827500</td>\n",
       "      <td>0.886900</td>\n",
       "      <td>6.004000</td>\n",
       "      <td>3.565250</td>\n",
       "      <td>4.812000</td>\n",
       "      <td>5.879000</td>\n",
       "      <td>3.000000</td>\n",
       "    </tr>\n",
       "    <tr>\n",
       "      <th>max</th>\n",
       "      <td>21.180000</td>\n",
       "      <td>17.250000</td>\n",
       "      <td>0.918300</td>\n",
       "      <td>6.675000</td>\n",
       "      <td>4.033000</td>\n",
       "      <td>8.315000</td>\n",
       "      <td>6.550000</td>\n",
       "      <td>3.000000</td>\n",
       "    </tr>\n",
       "  </tbody>\n",
       "</table>\n",
       "</div>"
      ],
      "text/plain": [
       "             area   parimeter  compactness  length_of_kernal  width_of_kernal  \\\n",
       "count  198.000000  198.000000   198.000000        198.000000       198.000000   \n",
       "mean    14.917020   14.594596     0.870810          5.642545         3.265298   \n",
       "std      2.927276    1.313651     0.023379          0.444635         0.379266   \n",
       "min     10.590000   12.410000     0.808100          4.899000         2.630000   \n",
       "25%     12.315000   13.470000     0.856900          5.267000         2.953750   \n",
       "50%     14.405000   14.360000     0.873450          5.541000         3.243500   \n",
       "75%     17.502500   15.827500     0.886900          6.004000         3.565250   \n",
       "max     21.180000   17.250000     0.918300          6.675000         4.033000   \n",
       "\n",
       "        asymmetry  length_of_kernel_groove        type  \n",
       "count  198.000000               198.000000  198.000000  \n",
       "mean     3.706683                 5.421667    2.000000  \n",
       "std      1.471047                 0.493759    0.812341  \n",
       "min      0.765100                 4.519000    1.000000  \n",
       "25%      2.600250                 5.046000    1.000000  \n",
       "50%      3.634500                 5.229500    2.000000  \n",
       "75%      4.812000                 5.879000    3.000000  \n",
       "max      8.315000                 6.550000    3.000000  "
      ]
     },
     "execution_count": 6,
     "metadata": {},
     "output_type": "execute_result"
    }
   ],
   "source": [
    "df_seed.describe()"
   ]
  },
  {
   "cell_type": "code",
   "execution_count": 7,
   "id": "2b0ff256",
   "metadata": {},
   "outputs": [],
   "source": [
    "\n",
    "# set the input variables\n",
    "x = df_seed[['area', 'length_of_kernal','width_of_kernal', 'asymmetry', 'length_of_kernel_groove']]\n",
    "\n",
    "# target value\n",
    "y = df_seed['type']\n",
    "\n",
    "# create train, test and split\n",
    "X_train, X_test, Y_train, Y_test = train_test_split(x, y, test_size=.5, random_state=5)"
   ]
  },
  {
   "cell_type": "code",
   "execution_count": 8,
   "id": "4b17111b",
   "metadata": {},
   "outputs": [
    {
     "name": "stdout",
     "output_type": "stream",
     "text": [
      "SVM Model Accuracy :  0.9191919191919192\n"
     ]
    }
   ],
   "source": [
    "# create our svm model with Regularization, maximum-margin & maximun iteration\n",
    "svm = make_pipeline(StandardScaler(),LinearSVC(random_state=0, tol=1e-5))\n",
    "\n",
    "# fit the training data to the model\n",
    "svm.fit(X_train, Y_train)\n",
    "\n",
    "# print the score of our model\n",
    "print(\"SVM Model Accuracy : \",svm.score(X_test,Y_test))\n",
    "\n",
    "#set the y_pred to our model.predict \n",
    "y_pred = svm.predict(X_test)\n",
    "\n",
    "# create a confusion matrix and pass i y_test and y_pred\n",
    "cm = pd.DataFrame(confusion_matrix(Y_test, y_pred))\n"
   ]
  },
  {
   "cell_type": "code",
   "execution_count": 9,
   "id": "f72308ed",
   "metadata": {},
   "outputs": [
    {
     "data": {
      "text/plain": [
       "Text(0.5, 1.0, 'SVM Decision Region Boundary')"
      ]
     },
     "execution_count": 9,
     "metadata": {},
     "output_type": "execute_result"
    },
    {
     "data": {
      "image/png": "[encoded data removed]",
      "text/plain": [
       "<Figure size 432x288 with 1 Axes>"
      ]
     },
     "metadata": {
      "needs_background": "light"
     },
     "output_type": "display_data"
    }
   ],
   "source": [
    "pca = PCA(n_components = 2)\n",
    "X_train = pca.fit_transform(x)\n",
    "svm.fit(X_train, y)\n",
    "plot_decision_regions(X_train, y.values, clf=svm, legend=6,zoom_factor=10.0,colors='#d62728,#9467bd,#bcbd22')\n",
    "\n",
    "plt.xlabel(x.columns[0], size=10)\n",
    "plt.ylabel(x.columns[1], size=10)\n",
    "plt.title('SVM Decision Region Boundary', size=10)"
   ]
  },
  {
   "cell_type": "markdown",
   "id": "edcd23f5",
   "metadata": {},
   "source": [
    "### Assignment 2"
   ]
  },
  {
   "cell_type": "code",
   "execution_count": 10,
   "id": "5f2287dc",
   "metadata": {},
   "outputs": [],
   "source": [
    "import pandas as pd\n",
    "import numpy as np\n",
    "\n",
    "def randomize_dataframe(df, percentage=0.9):\n",
    "    \"\"\"\n",
    "    Randomizes a percentage of the cells in the given DataFrame.\n",
    "    \n",
    "    Args:\n",
    "    df (pandas.DataFrame): The DataFrame to be randomized.\n",
    "    percentage (float): The percentage of cells to randomize.\n",
    "    \n",
    "    Returns:\n",
    "    pandas.DataFrame: The randomized DataFrame.\n",
    "    \"\"\"\n",
    "    num_rows, num_cols = df.shape\n",
    "    num_to_randomize = int(num_rows * num_cols * percentage)  # Calculate the number of cells to randomize\n",
    "    cells_to_randomize = np.random.choice(df.size, num_to_randomize, replace=False)  # Select a random subset of cells to randomize\n",
    "    row_indices, col_indices = np.unravel_index(cells_to_randomize, df.shape)  # Convert 1D indices to 2D indices\n",
    "    df.iloc[row_indices, col_indices] = np.random.rand(num_to_randomize)  # Randomize the selected cells\n",
    "    \n",
    "    return df\n"
   ]
  },
  {
   "cell_type": "code",
   "execution_count": 11,
   "id": "5baa0be9",
   "metadata": {},
   "outputs": [],
   "source": [
    "x_randomized = randomize_dataframe(x)\n",
    "\n",
    "# create train, test and split\n",
    "X_train, X_test, Y_train, Y_test = train_test_split(x_randomized, y, test_size=.5, random_state=5)"
   ]
  },
  {
   "cell_type": "code",
   "execution_count": 12,
   "id": "546f1d15",
   "metadata": {},
   "outputs": [
    {
     "name": "stdout",
     "output_type": "stream",
     "text": [
      "SVM Model Accuracy :  0.29292929292929293\n"
     ]
    }
   ],
   "source": [
    "# create our svm model with Regularization, maximum-margin & maximun iteration\n",
    "svm = make_pipeline(StandardScaler(),LinearSVC(random_state=0, tol=1e-5))\n",
    "\n",
    "# fit the training data to the model\n",
    "svm.fit(X_train, Y_train)\n",
    "\n",
    "# print the score of our model\n",
    "print(\"SVM Model Accuracy : \",svm.score(X_test,Y_test))\n",
    "\n",
    "#set the y_pred to our model.predict \n",
    "y_pred = svm.predict(X_test)\n",
    "\n",
    "# create a confusion matrix and pass i y_test and y_pred\n",
    "cm = pd.DataFrame(confusion_matrix(Y_test, y_pred))\n"
   ]
  },
  {
   "cell_type": "markdown",
   "id": "4962ab5e",
   "metadata": {},
   "source": [
    "### Assignment 3"
   ]
  },
  {
   "cell_type": "code",
   "execution_count": 13,
   "id": "97f60c18",
   "metadata": {},
   "outputs": [
    {
     "data": {
      "image/png": "[encoded data removed]",
      "text/plain": [
       "<Figure size 720x360 with 2 Axes>"
      ]
     },
     "metadata": {
      "needs_background": "light"
     },
     "output_type": "display_data"
    },
    {
     "name": "stdout",
     "output_type": "stream",
     "text": [
      "Centering the features may be appropriate to remove bias\n",
      "LDA may be appropriate to improve the class separability\n"
     ]
    }
   ],
   "source": [
    "df_seed = pd.read_table('seeds_dataset.txt', sep=\"\\t\",on_bad_lines='skip')\n",
    "# set the column names\n",
    "df_seed.columns = [\"area\", \"parimeter\", \"compactness\", \"length_of_kernal\", \"width_of_kernal\", \"asymmetry\", \n",
    "                \"length_of_kernel_groove\", \"type\"]\n",
    "# set the input variables\n",
    "x = df_seed[['area', 'length_of_kernal','width_of_kernal', 'asymmetry', 'length_of_kernel_groove']]\n",
    "\n",
    "# target value\n",
    "y = df_seed['type']\n",
    "# Standardize the features\n",
    "scaler = StandardScaler()\n",
    "scaled_X = scaler.fit_transform(x)\n",
    "\n",
    "# Perform PCA\n",
    "pca = PCA(n_components=2)\n",
    "X_pca = pca.fit_transform(scaled_X)\n",
    "\n",
    "# Perform LDA\n",
    "lda = LinearDiscriminantAnalysis(n_components=2)\n",
    "X_lda = lda.fit_transform(scaled_X, y)\n",
    "\n",
    "# Plot the results of PCA and LDA\n",
    "plt.figure(figsize=(10, 5))\n",
    "plt.subplot(1, 2, 1)\n",
    "plt.scatter(X_pca[:, 0], X_pca[:, 1], c=y)\n",
    "plt.xlabel(\"PC1\")\n",
    "plt.ylabel(\"PC2\")\n",
    "plt.title(\"Principle component analysis\")\n",
    "\n",
    "plt.subplot(1, 2, 2)\n",
    "plt.scatter(X_lda[:, 0], X_lda[:, 1], c=y)\n",
    "plt.xlabel(\"LD1\")\n",
    "plt.ylabel(\"LD2\")\n",
    "plt.title(\"Linear Discriminant Analysis\")\n",
    "\n",
    "plt.tight_layout()\n",
    "plt.show()\n",
    "\n",
    "# Recommend feature transformations\n",
    "if np.allclose(x,x.mean(axis=0)):\n",
    "    print(\"No feature transformation is needed since the features are already centered\")\n",
    "else:\n",
    "    print(\"Centering the features may be appropriate to remove bias\")\n",
    "\n",
    "if np.unique(y).size <= 2:\n",
    "    print(\"No feature transformation is needed since LDA is only applicable to binary classification problems\")\n",
    "else:\n",
    "    print(\"LDA may be appropriate to improve the class separability\")"
   ]
  },
  {
   "cell_type": "markdown",
   "id": "9811a243",
   "metadata": {},
   "source": [
    "### Multi Layred Performance"
   ]
  },
  {
   "cell_type": "code",
   "execution_count": 14,
   "id": "031670ce",
   "metadata": {},
   "outputs": [],
   "source": [
    "import numpy as np\n",
    "import pandas as pd\n",
    "from sklearn.model_selection import train_test_split\n",
    "from sklearn.neural_network import MLPClassifier\n",
    "from sklearn.metrics import accuracy_score"
   ]
  },
  {
   "cell_type": "code",
   "execution_count": 16,
   "id": "92989a78",
   "metadata": {},
   "outputs": [
    {
     "data": {
      "text/plain": [
       "MLPClassifier(hidden_layer_sizes=(10, 10), max_iter=1000, random_state=42)"
      ]
     },
     "execution_count": 16,
     "metadata": {},
     "output_type": "execute_result"
    }
   ],
   "source": [
    "X_train, X_test, Y_train, Y_test = train_test_split(x_randomized, y, test_size=.5, random_state=5)\n",
    "# Define the MLP classifier\n",
    "mlp = MLPClassifier(hidden_layer_sizes=(10, 10), activation=\"relu\", solver=\"adam\", max_iter=1000, random_state=42)\n",
    "\n",
    "# Train the MLP classifier on the training data\n",
    "mlp.fit(X_train, Y_train)\n"
   ]
  },
  {
   "cell_type": "code",
   "execution_count": 18,
   "id": "e48dbd06",
   "metadata": {},
   "outputs": [
    {
     "name": "stdout",
     "output_type": "stream",
     "text": [
      "Accuracy of MLP classifier: 0.293\n"
     ]
    }
   ],
   "source": [
    "# Predict the classes of the testing data using the MLP classifier\n",
    "y_pred = mlp.predict(X_test)\n",
    "\n",
    "# Calculate the accuracy of the MLP classifier\n",
    "acc_mlp = accuracy_score(Y_test, y_pred)\n",
    "print(f\"Accuracy of MLP classifier: {acc_mlp:.3f}\")\n"
   ]
  },
  {
   "cell_type": "code",
   "execution_count": null,
   "id": "b0e5137c",
   "metadata": {},
   "outputs": [],
   "source": []
  }
 ],
 "metadata": {
  "kernelspec": {
   "display_name": "Python 3",
   "language": "python",
   "name": "python3"
  },
  "language_info": {
   "codemirror_mode": {
    "name": "ipython",
    "version": 3
   },
   "file_extension": ".py",
   "mimetype": "text/x-python",
   "name": "python",
   "nbconvert_exporter": "python",
   "pygments_lexer": "ipython3",
   "version": "3.7.10"
  }
 },
 "nbformat": 4,
 "nbformat_minor": 5
}
